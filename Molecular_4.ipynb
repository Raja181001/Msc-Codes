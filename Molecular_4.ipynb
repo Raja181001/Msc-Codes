{
 "cells": [
  {
   "cell_type": "code",
   "execution_count": 3,
   "metadata": {},
   "outputs": [],
   "source": [
    "from numpy import *"
   ]
  },
  {
   "cell_type": "code",
   "execution_count": 4,
   "metadata": {},
   "outputs": [],
   "source": [
    "def rad(state):\n",
    "    if state==1:\n",
    "        return 0.529/4\n",
    "    if state==2:\n",
    "        return (0.529*state**2)/4\n",
    "\n",
    "def function(r,n):\n",
    "    "
   ]
  },
  {
   "cell_type": "code",
   "execution_count": 5,
   "metadata": {},
   "outputs": [
    {
     "name": "stdout",
     "output_type": "stream",
     "text": [
      "First ionization energy of Be: 12.35\n",
      "Second ionization energy of Be: 22.5\n"
     ]
    }
   ],
   "source": [
    "import numpy as np\n",
    "from scipy.linalg import eigh\n",
    "\n",
    "# Define atomic number and basis set\n",
    "Z = 4  # Atomic number of beryllium\n",
    "N = 2  # Number of electrons\n",
    "n_basis = 2  # Number of atomic orbitals (1s, 2s, 2p)\n",
    "\n",
    "# Define atomic orbital energies (1s, 2s, 2p)\n",
    "epsilon = np.array([-11.10, -0.50])\n",
    "\n",
    "# Construct the core Hamiltonian\n",
    "H_core = np.diag(epsilon)\n",
    "\n",
    "# Calculate the two-electron repulsion integrals (assuming closed-shell configuration)\n",
    "# These are constants and can be precomputed for efficiency\n",
    "eri = np.zeros((n_basis, n_basis, n_basis, n_basis))  # Initialize ERIs to zero\n",
    "# Assuming closed-shell configuration, only need two-electron repulsion integrals for 2 electrons\n",
    "eri[0, 0, 0, 0] = 1.25  # (1s, 1s, 1s, 1s)\n",
    "eri[1, 1, 1, 1] = 0.80  # (2s, 2s, 2s, 2s)\n",
    "# Coulomb and exchange integrals for off-diagonal elements are zero in this simplified example\n",
    "\n",
    "# Hartree-Fock iterations\n",
    "max_iter = 1000\n",
    "tolerance = 1e-8\n",
    "\n",
    "# Function to construct the Fock matrix\n",
    "def construct_fock_matrix(D):\n",
    "    J = np.einsum('pqrs,rs->pq', eri, D)\n",
    "    K = np.einsum('prqs,rs->pq', eri, D)\n",
    "    F = H_core + 2 * J - K\n",
    "    return F\n",
    "\n",
    "# Initialize density matrix\n",
    "D = np.zeros((n_basis, n_basis))\n",
    "\n",
    "# Perform Hartree-Fock iterations\n",
    "for iteration in range(max_iter):\n",
    "    F = construct_fock_matrix(D)\n",
    "    energy, C = eigh(F)\n",
    "    C_occ = C[:, :N]\n",
    "    D_new = np.dot(C_occ, C_occ.T)\n",
    "    if np.allclose(D, D_new, atol=tolerance):\n",
    "        break\n",
    "    D = D_new\n",
    "\n",
    "# Compute the first ionization energy\n",
    "ionization_energy_1 = energy[0] - 2 * epsilon[0]\n",
    "print(\"First ionization energy of Be:\", ionization_energy_1)\n",
    "\n",
    "# Compute the second ionization energy\n",
    "ionization_energy_2 = energy[1] - 2 * epsilon[0]\n",
    "print(\"Second ionization energy of Be:\", ionization_energy_2)"
   ]
  }
 ],
 "metadata": {
  "kernelspec": {
   "display_name": "Python 3",
   "language": "python",
   "name": "python3"
  },
  "language_info": {
   "codemirror_mode": {
    "name": "ipython",
    "version": 3
   },
   "file_extension": ".py",
   "mimetype": "text/x-python",
   "name": "python",
   "nbconvert_exporter": "python",
   "pygments_lexer": "ipython3",
   "version": "3.11.8"
  }
 },
 "nbformat": 4,
 "nbformat_minor": 2
}
