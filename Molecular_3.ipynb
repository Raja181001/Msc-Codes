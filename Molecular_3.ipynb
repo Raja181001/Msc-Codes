{
 "cells": [
  {
   "cell_type": "markdown",
   "metadata": {},
   "source": [
    "**Imposting the Required Library**"
   ]
  },
  {
   "cell_type": "code",
   "execution_count": 194,
   "metadata": {},
   "outputs": [],
   "source": [
    "from numpy import *\n",
    "from pandas import *"
   ]
  },
  {
   "cell_type": "markdown",
   "metadata": {},
   "source": [
    "**Defining the Functions**"
   ]
  },
  {
   "cell_type": "code",
   "execution_count": 195,
   "metadata": {},
   "outputs": [],
   "source": [
    "def moment(m1,m2,r1):\n",
    "    return ((m1*m2)/(m1+m2))* r1**2\n",
    "\n",
    "def moment2(mo,ms,mc,rco,rcs):\n",
    "    M = mo+mc+ms\n",
    "    I = mo*rco**2 + ms*rcs**2 - (((mo*rco - ms*rcs)**2)/M)\n",
    "    return I\n",
    "\n",
    "def B(I):\n",
    "    c = 3e8\n",
    "    h = 6.62e-34\n",
    "    B = ((h)/(8*pi**2*I*c))/100\n",
    "    return B\n",
    "\n",
    "def D(I,r1,r2,k):\n",
    "    h = 6.63e-34\n",
    "    r = (r1 + r2)/2\n",
    "    c = 3e8\n",
    "    d = (h**3)/(32 * pi**4 * I**2 * r**2 * k * c)\n",
    "    return d\n",
    "def omega(B,D):\n",
    "    o = sqrt((4 * B**3)/(D))\n",
    "    return o\n",
    "def Energy(n,j,B,D):\n",
    "    E_vib = (n + 1/2)*omega(B,D)\n",
    "    E_rot = B*(j*(j+1)) - D*(j**2*(j+1)**2)\n",
    "    return E_vib + E_rot"
   ]
  },
  {
   "cell_type": "markdown",
   "metadata": {},
   "source": [
    "**HF Molecule**"
   ]
  },
  {
   "cell_type": "code",
   "execution_count": 196,
   "metadata": {},
   "outputs": [],
   "source": [
    "Energy_HF=[]\n",
    "J = arange(0,10,1)\n",
    "N = arange(0,3,1)\n",
    "m1 = 1.672163981e-27\n",
    "m2 = 3.154694272e-26\n",
    "r1 = 9.27e-11\n",
    "k = 96600\n",
    "j = 0\n",
    "b = B(moment(m1,m2,r1))\n",
    "while j < len(J):\n",
    "    Energy_HF.append(b*j*(j+1))\n",
    "    j+=1\n",
    "\n",
    "df = DataFrame({\n",
    "    'J': J,\n",
    "    'Energy_HF': Energy_HF\n",
    "})"
   ]
  },
  {
   "cell_type": "markdown",
   "metadata": {},
   "source": [
    "**Pure Rotational**"
   ]
  },
  {
   "cell_type": "code",
   "execution_count": 197,
   "metadata": {},
   "outputs": [],
   "source": [
    "Transition_HF = []\n",
    "Energy_difference_HF = []\n",
    "\n",
    "for j in range(len(J)-1):\n",
    "    Transition_HF.append(f'{j+1} --> {j}')\n",
    "    Energy_difference_HF.append(Energy_HF[j+1]-Energy_HF[j])\n",
    "    \n",
    "Diff_HF = DataFrame({\n",
    "    'Transition level' : Transition_HF,\n",
    "    'Energy Differnece' : Energy_difference_HF\n",
    "})"
   ]
  },
  {
   "cell_type": "code",
   "execution_count": 198,
   "metadata": {},
   "outputs": [
    {
     "name": "stdout",
     "output_type": "stream",
     "text": [
      "0.0020161272805543987\n",
      "20.48044279794816\n",
      "4128.38351966667\n"
     ]
    }
   ],
   "source": [
    "print(D(moment(m1,m2,r1),r1,r1,k))\n",
    "print(B(moment(m1,m2,r1)))\n",
    "print(omega(B(moment(m1,m2,r1)),D(moment(m1,m2,r1),r1,r1,k)))"
   ]
  },
  {
   "cell_type": "code",
   "execution_count": 199,
   "metadata": {},
   "outputs": [
    {
     "name": "stdout",
     "output_type": "stream",
     "text": [
      "   J    Energy_HF\n",
      "0  0     0.000000\n",
      "1  1    40.960886\n",
      "2  2   122.882657\n",
      "3  3   245.765314\n",
      "4  4   409.608856\n",
      "5  5   614.413284\n",
      "6  6   860.178598\n",
      "7  7  1146.904797\n",
      "8  8  1474.591881\n",
      "9  9  1843.239852\n",
      "  Transition level  Energy Differnece\n",
      "0          1 --> 0          40.960886\n",
      "1          2 --> 1          81.921771\n",
      "2          3 --> 2         122.882657\n",
      "3          4 --> 3         163.843542\n",
      "4          5 --> 4         204.804428\n",
      "5          6 --> 5         245.765314\n",
      "6          7 --> 6         286.726199\n",
      "7          8 --> 7         327.687085\n",
      "8          9 --> 8         368.647970\n"
     ]
    }
   ],
   "source": [
    "print(df)\n",
    "df.to_csv(\"Rotational HF.csv\", index=False)\n",
    "print(Diff_HF)\n",
    "Diff_HF.to_csv(\"Transition_HF.csv\", index=False)"
   ]
  },
  {
   "cell_type": "markdown",
   "metadata": {},
   "source": [
    "**Rotation and Vibrational**"
   ]
  },
  {
   "cell_type": "code",
   "execution_count": 200,
   "metadata": {},
   "outputs": [],
   "source": [
    "Energy_rot_HF = []\n",
    "b = B(moment(m1,m2,r1))\n",
    "d = D(moment(m1,m2,r1),r1,r1,k)\n",
    "for n in N:\n",
    "    for j in J:\n",
    "        Energy_rot_HF.append(Energy(n,j,b,d))\n"
   ]
  },
  {
   "cell_type": "code",
   "execution_count": 201,
   "metadata": {},
   "outputs": [],
   "source": [
    "df = DataFrame({\n",
    "    'N': [n for n in N for _ in J],\n",
    "    'J': [j for _ in N for j in J],\n",
    "    'Energy_rot_HF (1/cm)': Energy_rot_HF\n",
    "})"
   ]
  },
  {
   "cell_type": "code",
   "execution_count": 202,
   "metadata": {},
   "outputs": [],
   "source": [
    "Transition_vib_rot_HF = []\n",
    "Transition_combination_HF = []\n",
    "for k in range(len(Energy_rot_HF)):\n",
    "    n1 = df.at[k, 'N']\n",
    "    j1 = df.at[k,'J']\n",
    "    for l in range(k,len(Energy_rot_HF)):\n",
    "        n2 = df.at[l,'N']\n",
    "        j2 = df.at[l,'J']\n",
    "        if abs(n1 - n2) == 1 and abs(j2 - j1) == 1:\n",
    "            tr = df.at[l , 'Energy_rot_HF (1/cm)'] - df.at[k , 'Energy_rot_HF (1/cm)']\n",
    "            Transition_vib_rot_HF.append(tr)\n",
    "            Transition_combination_HF.append(f'{n1} --> {n2} and {j1} --> {j2}')\n",
    "            \n",
    "Transition_comb_HF = DataFrame({\n",
    "    'Transition' : Transition_combination_HF,\n",
    "    'Difference in Energy level (1/cm)' : Transition_vib_rot_HF\n",
    "})"
   ]
  },
  {
   "cell_type": "code",
   "execution_count": 203,
   "metadata": {},
   "outputs": [
    {
     "name": "stdout",
     "output_type": "stream",
     "text": [
      "    N  J  Energy_rot_HF (1/cm)\n",
      "0   0  0           2064.191760\n",
      "1   0  1           2105.144581\n",
      "2   0  2           2187.001836\n",
      "3   0  3           2309.666751\n",
      "4   0  4           2472.994165\n",
      "5   0  5           2676.790529\n",
      "6   0  6           2920.813909\n",
      "7   0  7           3204.773981\n",
      "8   0  8           3528.332037\n",
      "9   0  9           3891.100981\n",
      "10  1  0           6192.575280\n",
      "11  1  1           6233.528101\n",
      "12  1  2           6315.385356\n",
      "13  1  3           6438.050271\n",
      "14  1  4           6601.377685\n",
      "15  1  5           6805.174049\n",
      "16  1  6           7049.197428\n",
      "17  1  7           7333.157501\n",
      "18  1  8           7656.715557\n",
      "19  1  9           8019.484500\n",
      "20  2  0          10320.958799\n",
      "21  2  1          10361.911620\n",
      "22  2  2          10443.768875\n",
      "23  2  3          10566.433790\n",
      "24  2  4          10729.761204\n",
      "25  2  5          10933.557569\n",
      "26  2  6          11177.580948\n",
      "27  2  7          11461.541021\n",
      "28  2  8          11785.099077\n",
      "29  2  9          12147.868020\n",
      "             Transition  Difference in Energy level (1/cm)\n",
      "0   0 --> 1 and 0 --> 1                        4169.336341\n",
      "1   0 --> 1 and 1 --> 0                        4087.430699\n",
      "2   0 --> 1 and 1 --> 2                        4210.240775\n",
      "3   0 --> 1 and 2 --> 1                        4046.526265\n",
      "4   0 --> 1 and 2 --> 3                        4251.048435\n",
      "5   0 --> 1 and 3 --> 2                        4005.718605\n",
      "6   0 --> 1 and 3 --> 4                        4291.710933\n",
      "7   0 --> 1 and 4 --> 3                        3965.056106\n",
      "8   0 --> 1 and 4 --> 5                        4332.179884\n",
      "9   0 --> 1 and 5 --> 4                        3924.587155\n",
      "10  0 --> 1 and 5 --> 6                        4372.406899\n",
      "11  0 --> 1 and 6 --> 5                        3884.360140\n",
      "12  0 --> 1 and 6 --> 7                        4412.343592\n",
      "13  0 --> 1 and 7 --> 6                        3844.423447\n",
      "14  0 --> 1 and 7 --> 8                        4451.941576\n",
      "15  0 --> 1 and 8 --> 7                        3804.825464\n",
      "16  0 --> 1 and 8 --> 9                        4491.152463\n",
      "17  0 --> 1 and 9 --> 8                        3765.614576\n",
      "18  1 --> 2 and 0 --> 1                        4169.336341\n",
      "19  1 --> 2 and 1 --> 0                        4087.430699\n",
      "20  1 --> 2 and 1 --> 2                        4210.240775\n",
      "21  1 --> 2 and 2 --> 1                        4046.526265\n",
      "22  1 --> 2 and 2 --> 3                        4251.048435\n",
      "23  1 --> 2 and 3 --> 2                        4005.718605\n",
      "24  1 --> 2 and 3 --> 4                        4291.710933\n",
      "25  1 --> 2 and 4 --> 3                        3965.056106\n",
      "26  1 --> 2 and 4 --> 5                        4332.179884\n",
      "27  1 --> 2 and 5 --> 4                        3924.587155\n",
      "28  1 --> 2 and 5 --> 6                        4372.406899\n",
      "29  1 --> 2 and 6 --> 5                        3884.360140\n",
      "30  1 --> 2 and 6 --> 7                        4412.343592\n",
      "31  1 --> 2 and 7 --> 6                        3844.423447\n",
      "32  1 --> 2 and 7 --> 8                        4451.941576\n",
      "33  1 --> 2 and 8 --> 7                        3804.825464\n",
      "34  1 --> 2 and 8 --> 9                        4491.152463\n",
      "35  1 --> 2 and 9 --> 8                        3765.614576\n"
     ]
    }
   ],
   "source": [
    "print(df)\n",
    "df.to_csv(\"Vibration_HF.csv\", index=False)\n",
    "print(Transition_comb_HF)\n",
    "Transition_comb_HF.to_csv(\"Transition_vibration_HF.csv\", index=False)"
   ]
  },
  {
   "cell_type": "markdown",
   "metadata": {},
   "source": [
    "**SOC Molecule**"
   ]
  },
  {
   "cell_type": "code",
   "execution_count": 204,
   "metadata": {},
   "outputs": [],
   "source": [
    "Energy_SOC = []\n",
    "mo = 2.656698266e-26\n",
    "mc = 1.994474834e-26\n",
    "ms = 5.323691881e-26\n",
    "roc = 0.116e-9\n",
    "rsc = 0.155e-9\n",
    "k = 20000\n",
    "j = 0\n",
    "b = B(moment2(mo,ms,mc,roc,rsc))\n",
    "while j < len(J):\n",
    "    Energy_SOC.append(b*j*(j+1))\n",
    "    j+=1\n",
    "    \n",
    "df_SOC = DataFrame({\n",
    "    'J': J,\n",
    "    'Energy_HF': Energy_SOC\n",
    "})"
   ]
  },
  {
   "cell_type": "markdown",
   "metadata": {},
   "source": [
    "**Pure Rotational**"
   ]
  },
  {
   "cell_type": "code",
   "execution_count": 205,
   "metadata": {},
   "outputs": [],
   "source": [
    "Transition_SOC = []\n",
    "Energy_difference_SOC = []\n",
    "\n",
    "for j in range(len(J)-1):\n",
    "    Transition_SOC.append(f'{j+1} --> {j}')\n",
    "    Energy_difference_SOC.append(Energy_SOC[j+1]-Energy_SOC[j])\n",
    "    \n",
    "Diff_SOC = DataFrame({\n",
    "    'Transition level' : Transition_SOC,\n",
    "    'Energy Differnece' : Energy_difference_SOC\n",
    "})"
   ]
  },
  {
   "cell_type": "code",
   "execution_count": 206,
   "metadata": {},
   "outputs": [
    {
     "name": "stdout",
     "output_type": "stream",
     "text": [
      "  Transition level  Energy Differnece\n",
      "0          1 --> 0           0.408430\n",
      "1          2 --> 1           0.816861\n",
      "2          3 --> 2           1.225291\n",
      "3          4 --> 3           1.633721\n",
      "4          5 --> 4           2.042152\n",
      "5          6 --> 5           2.450582\n",
      "6          7 --> 6           2.859012\n",
      "7          8 --> 7           3.267443\n",
      "8          9 --> 8           3.675873\n",
      "   J  Energy_HF\n",
      "0  0   0.000000\n",
      "1  1   0.408430\n",
      "2  2   1.225291\n",
      "3  3   2.450582\n",
      "4  4   4.084304\n",
      "5  5   6.126455\n",
      "6  6   8.577037\n",
      "7  7  11.436050\n",
      "8  8  14.703493\n",
      "9  9  18.379366\n"
     ]
    }
   ],
   "source": [
    "print(Diff_SOC)\n",
    "print(df_SOC)\n",
    "df_SOC.to_csv(\"Transition_SOC.csv\", index=False)\n",
    "Diff_SOC.to_csv(\"rotational_SOC.csv\", index=False)"
   ]
  },
  {
   "cell_type": "markdown",
   "metadata": {},
   "source": [
    "**Rotation and Vibration**"
   ]
  },
  {
   "cell_type": "code",
   "execution_count": 207,
   "metadata": {},
   "outputs": [],
   "source": [
    "Energy_rot_SOC = []\n",
    "b = B(moment2(mo,ms,mc,roc,rsc))\n",
    "d = D(moment2(mo,ms,mc,roc,rsc),roc,rsc,k)\n",
    "for n in N:\n",
    "    for j in J:\n",
    "        Energy_rot_SOC.append(Energy(n,j,b,d))"
   ]
  },
  {
   "cell_type": "code",
   "execution_count": 208,
   "metadata": {},
   "outputs": [],
   "source": [
    "df = DataFrame({\n",
    "    'N': [n for n in N for _ in J],\n",
    "    'J': [j for _ in N for j in J],\n",
    "    'Energy_rot_SOC (1/cm)': Energy_rot_SOC\n",
    "})"
   ]
  },
  {
   "cell_type": "code",
   "execution_count": 209,
   "metadata": {},
   "outputs": [],
   "source": [
    "Transition_vib_rot_SOC = []\n",
    "Transition_combination_SOC = []\n",
    "for k in range(len(Energy_rot_SOC)):\n",
    "    n1 = df.at[k, 'N']\n",
    "    j1 = df.at[k,'J']\n",
    "    for l in range(k,len(Energy_rot_SOC)):\n",
    "        n2 = df.at[l,'N']\n",
    "        j2 = df.at[l,'J']\n",
    "        if abs(n1 - n2) == 1 and abs(j2 - j1) == 1:\n",
    "            tr = df.at[l , 'Energy_rot_SOC (1/cm)'] - df.at[k , 'Energy_rot_SOC (1/cm)']\n",
    "            Transition_vib_rot_SOC.append(tr)\n",
    "            Transition_combination_SOC.append(f'{n1} --> {n2} and {j1} --> {j2}')\n",
    "            \n",
    "Transition_comb_SOC = DataFrame({\n",
    "    'Transition' : Transition_combination_SOC,\n",
    "    'Difference in Energy level (1/cm)' : Transition_vib_rot_SOC\n",
    "})"
   ]
  },
  {
   "cell_type": "code",
   "execution_count": 211,
   "metadata": {},
   "outputs": [
    {
     "name": "stdout",
     "output_type": "stream",
     "text": [
      "0.00031251818885936073\n",
      "274.1829014785559\n",
      "    N  J  Energy_rot_SOC (1/cm)\n",
      "0   0  0             137.091451\n",
      "1   0  1             137.499879\n",
      "2   0  2             138.316725\n",
      "3   0  3             139.541968\n",
      "4   0  4             141.175573\n",
      "5   0  5             143.217498\n",
      "6   0  6             145.667689\n",
      "7   0  7             148.526080\n",
      "8   0  8             151.792594\n",
      "9   0  9             155.467146\n",
      "10  1  0             411.274352\n",
      "11  1  1             411.682781\n",
      "12  1  2             412.499627\n",
      "13  1  3             413.724869\n",
      "14  1  4             415.358474\n",
      "15  1  5             417.400400\n",
      "16  1  6             419.850590\n",
      "17  1  7             422.708981\n",
      "18  1  8             425.975496\n",
      "19  1  9             429.650048\n",
      "20  2  0             685.457254\n",
      "21  2  1             685.865682\n",
      "22  2  2             686.682528\n",
      "23  2  3             687.907771\n",
      "24  2  4             689.541376\n",
      "25  2  5             691.583301\n",
      "26  2  6             694.033492\n",
      "27  2  7             696.891883\n",
      "28  2  8             700.158397\n",
      "29  2  9             703.832949\n",
      "             Transition  Difference in Energy level (1/cm)\n",
      "0   0 --> 1 and 0 --> 1                         274.591330\n",
      "1   0 --> 1 and 1 --> 0                         273.774473\n",
      "2   0 --> 1 and 1 --> 2                         274.999748\n",
      "3   0 --> 1 and 2 --> 1                         273.366055\n",
      "4   0 --> 1 and 2 --> 3                         275.408144\n",
      "5   0 --> 1 and 3 --> 2                         272.957659\n",
      "6   0 --> 1 and 3 --> 4                         275.816507\n",
      "7   0 --> 1 and 4 --> 3                         272.549296\n",
      "8   0 --> 1 and 4 --> 5                         276.224827\n",
      "9   0 --> 1 and 5 --> 4                         272.140976\n",
      "10  0 --> 1 and 5 --> 6                         276.633092\n",
      "11  0 --> 1 and 6 --> 5                         271.732711\n",
      "12  0 --> 1 and 6 --> 7                         277.041292\n",
      "13  0 --> 1 and 7 --> 6                         271.324511\n",
      "14  0 --> 1 and 7 --> 8                         277.449416\n",
      "15  0 --> 1 and 8 --> 7                         270.916387\n",
      "16  0 --> 1 and 8 --> 9                         277.857453\n",
      "17  0 --> 1 and 9 --> 8                         270.508350\n",
      "18  1 --> 2 and 0 --> 1                         274.591330\n",
      "19  1 --> 2 and 1 --> 0                         273.774473\n",
      "20  1 --> 2 and 1 --> 2                         274.999748\n",
      "21  1 --> 2 and 2 --> 1                         273.366055\n",
      "22  1 --> 2 and 2 --> 3                         275.408144\n",
      "23  1 --> 2 and 3 --> 2                         272.957659\n",
      "24  1 --> 2 and 3 --> 4                         275.816507\n",
      "25  1 --> 2 and 4 --> 3                         272.549296\n",
      "26  1 --> 2 and 4 --> 5                         276.224827\n",
      "27  1 --> 2 and 5 --> 4                         272.140976\n",
      "28  1 --> 2 and 5 --> 6                         276.633092\n",
      "29  1 --> 2 and 6 --> 5                         271.732711\n",
      "30  1 --> 2 and 6 --> 7                         277.041292\n",
      "31  1 --> 2 and 7 --> 6                         271.324511\n",
      "32  1 --> 2 and 7 --> 8                         277.449416\n",
      "33  1 --> 2 and 8 --> 7                         270.916387\n",
      "34  1 --> 2 and 8 --> 9                         277.857453\n",
      "35  1 --> 2 and 9 --> 8                         270.508350\n"
     ]
    }
   ],
   "source": [
    "print(D(moment2(mo,ms,mc,roc,rsc),roc,rsc,k))\n",
    "print(omega(b,d))\n",
    "print(df)\n",
    "df.to_csv(\"Vibration_SOC.csv\", index=False)\n",
    "print(Transition_comb_SOC)\n",
    "Transition_comb_SOC.to_csv(\"Transition_vibration_SOC.csv\", index=False)"
   ]
  }
 ],
 "metadata": {
  "kernelspec": {
   "display_name": "Python 3",
   "language": "python",
   "name": "python3"
  },
  "language_info": {
   "codemirror_mode": {
    "name": "ipython",
    "version": 3
   },
   "file_extension": ".py",
   "mimetype": "text/x-python",
   "name": "python",
   "nbconvert_exporter": "python",
   "pygments_lexer": "ipython3",
   "version": "3.11.8"
  }
 },
 "nbformat": 4,
 "nbformat_minor": 2
}
