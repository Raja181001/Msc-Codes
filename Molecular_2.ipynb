{
 "cells": [
  {
   "cell_type": "markdown",
   "metadata": {},
   "source": [
    "**Importing the required libraries**"
   ]
  },
  {
   "cell_type": "code",
   "execution_count": 9,
   "metadata": {},
   "outputs": [],
   "source": [
    "from numpy import *\n",
    "from pandas import *"
   ]
  },
  {
   "cell_type": "markdown",
   "metadata": {},
   "source": [
    "**Defining the function for the fine line splitting and the zeeman effect**"
   ]
  },
  {
   "cell_type": "code",
   "execution_count": 10,
   "metadata": {},
   "outputs": [],
   "source": [
    "def Energy(n,j,Z):\n",
    "    mc2 = 0.51098e6\n",
    "    a = 1/(137.037)\n",
    "    E_n = -((mc2/2)*(a**2)*(Z**2/n**2))\n",
    "    E_nj =  E_n*(1 + ((((Z*a)**2) / (n**2))* ((n) / (j + (1/2) ) - (3/4))))\n",
    "    return E_nj\n",
    "\n",
    "def Zeeman(Z,n,ml,ms,B):\n",
    "    mu = 5.78838e-5\n",
    "    mc2 = 0.51098e6\n",
    "    a = 1/(137.037)\n",
    "    E_n = -((mc2/2)*(a**2)*(Z**2/n**2))\n",
    "    E = E_n + mu*B*(ml + 2*ms)   \n",
    "    return E"
   ]
  },
  {
   "cell_type": "markdown",
   "metadata": {},
   "source": [
    "**Initializing the values**"
   ]
  },
  {
   "cell_type": "code",
   "execution_count": 11,
   "metadata": {},
   "outputs": [],
   "source": [
    "n1 = 2\n",
    "n2 = 3\n",
    "z = 1\n",
    "B = 1"
   ]
  },
  {
   "cell_type": "markdown",
   "metadata": {},
   "source": [
    "**Python code for obtaining the values of l,j and ml and then to find the values of the pssible transitions**"
   ]
  },
  {
   "cell_type": "code",
   "execution_count": 12,
   "metadata": {},
   "outputs": [],
   "source": [
    "j1 = arange(1/2,n1+1/2)\n",
    "j2 = arange(1/2,n2+1/2)\n",
    "l1 = arange(0,n1)\n",
    "l2 = arange(0,n2)\n",
    "ml1 = [arange(-l,l+1) for l in l1]\n",
    "ml2 = [arange(-l,l+1) for l in l2]\n",
    "#Empty array for storing the values calculated for normal zeeman effect\n",
    "mlms = []  #array for storing the combinating of ml for allowed transitions \n",
    "E_TZ = []  #storing the Energy level of the allowed transitions\n",
    "lamda_Z = [] #wavelength for the allowed transitions\n",
    "frequency_Z = [] #frequency for the allowed transitions\n",
    "#Empty array for storing the values calculated for the fine line splitting\n",
    "J = [] #storing the combination of j for the allowed transitions\n",
    "E_T = [] #Energy level of the allowed transitions\n",
    "lamda = [] #wavelength for the allowed transitions\n",
    "frequency = [] #frequency for the allowed transitions\n",
    "h = 4.1356e-3 #value of the planks constant in units of Tev.s\n",
    "hc = 1.2398e3 #product of planks constant and speed of light in units of TeV.m\n",
    "\n",
    "#Loop for calculating the energy level of the fine splitting in the hydrogenic atom\n",
    "for i in j1:\n",
    "    for j in j2:\n",
    "        if abs(j-i)==1 or j-i ==0: #Selection rule\n",
    "            E_d = Energy(n2,j,z) - Energy(n1,i,z)\n",
    "            f = (E_d/h)\n",
    "            l = hc/E_d\n",
    "            j1 = [j,i]\n",
    "            J.append(j1)\n",
    "            lamda.append(round(l,5))\n",
    "            E_T.append(round(E_d,5))\n",
    "            frequency.append(round(f,5))\n",
    "\n",
    "#Loop for calculating the energy level due to External magnetic field in the hydrogenic atoms\n",
    "ms = [+1/2,-1/2]\n",
    "for l11 in l1:\n",
    "    for m1 in ml1[l11]:\n",
    "        for l22 in l2:\n",
    "            for m2 in ml2[l22]:\n",
    "                if abs(m2-m1)==1 or abs(m2-m1)==0:\n",
    "                    E_d = Zeeman(z,n2,m2,1/2,B) - Zeeman(z,n1,m1,1/2,B)\n",
    "                    f = (E_d/h)\n",
    "                    l = hc/E_d\n",
    "                    m = [m1,m2]\n",
    "                    mlms.append(m)\n",
    "                    lamda_Z.append(round(l,5))\n",
    "                    E_TZ.append(round(E_d,5))\n",
    "                    frequency_Z.append(round(f,5))"
   ]
  },
  {
   "cell_type": "markdown",
   "metadata": {},
   "source": [
    "**Tabulating the results for the Zeeman effect**"
   ]
  },
  {
   "cell_type": "code",
   "execution_count": 13,
   "metadata": {},
   "outputs": [
    {
     "name": "stdout",
     "output_type": "stream",
     "text": [
      "      E_TZ   lambda_Z  frequency_Z  \\\n",
      "0  1.88952  656.14407    456.89236   \n",
      "1  1.88958  656.12397    456.90635   \n",
      "2  1.88964  656.10388    456.92035   \n",
      "\n",
      "                                      m_combinations  \n",
      "0  [[0, -1], [0, -1], [-1, -2], [0, -1], [0, -1],...  \n",
      "1  [[0, 0], [0, 0], [0, 0], [-1, -1], [-1, -1], [...  \n",
      "2  [[0, 1], [0, 1], [-1, 0], [-1, 0], [-1, 0], [0...  \n"
     ]
    },
    {
     "name": "stderr",
     "output_type": "stream",
     "text": [
      "/tmp/ipykernel_3459/1170127418.py:10: DeprecationWarning: DataFrameGroupBy.apply operated on the grouping columns. This behavior is deprecated, and in a future version of pandas the grouping columns will be excluded from the operation. Either pass `include_groups=False` to exclude the groupings or explicitly select the grouping columns after groupby to silence this warning.\n",
      "  result = grouped.apply(lambda x: x[['m1', 'm2']].values.tolist()).reset_index()\n"
     ]
    }
   ],
   "source": [
    "df = DataFrame({\n",
    "    'm1': [m[0] for m in mlms],\n",
    "    'm2': [m[1] for m in mlms],\n",
    "    'lambda_Z': lamda_Z,\n",
    "    'E_TZ': E_TZ,\n",
    "    'frequency_Z': frequency_Z\n",
    "})\n",
    "df_unique = df.drop_duplicates(subset=['E_TZ', 'lambda_Z', 'frequency_Z'])\n",
    "grouped = df.groupby(['E_TZ', 'lambda_Z', 'frequency_Z'])\n",
    "result = grouped.apply(lambda x: x[['m1', 'm2']].values.tolist()).reset_index()\n",
    "result.columns = ['E_TZ', 'lambda_Z', 'frequency_Z', 'm_combinations']\n",
    "result.to_csv(\"splitting_1\", index=False)\n",
    "print(result)"
   ]
  },
  {
   "cell_type": "markdown",
   "metadata": {},
   "source": [
    "**Tabulating the results for the fine structure**"
   ]
  },
  {
   "cell_type": "code",
   "execution_count": 14,
   "metadata": {},
   "outputs": [
    {
     "name": "stdout",
     "output_type": "stream",
     "text": [
      "  combination of j   lambda_Z     E_TZ  frequency_Z\n",
      "0       [0.5, 0.5]  656.11131  1.88962    456.91517\n",
      "1       [1.5, 0.5]  656.10665  1.88963    456.91842\n",
      "2       [0.5, 1.5]  656.12703  1.88957    456.90423\n",
      "3       [1.5, 1.5]  656.12237  1.88959    456.90747\n",
      "4       [2.5, 1.5]  656.12082  1.88959    456.90855\n"
     ]
    }
   ],
   "source": [
    "df = DataFrame({\n",
    "    'combination of j': J,\n",
    "    'lambda_Z': lamda,\n",
    "    'E_TZ': E_T,\n",
    "    'frequency_Z': frequency\n",
    "})\n",
    "df.to_csv('splitting_1.csv', index=False)\n",
    "print(df)"
   ]
  }
 ],
 "metadata": {
  "kernelspec": {
   "display_name": "project",
   "language": "python",
   "name": "python3"
  },
  "language_info": {
   "codemirror_mode": {
    "name": "ipython",
    "version": 3
   },
   "file_extension": ".py",
   "mimetype": "text/x-python",
   "name": "python",
   "nbconvert_exporter": "python",
   "pygments_lexer": "ipython3",
   "version": "3.11.7"
  }
 },
 "nbformat": 4,
 "nbformat_minor": 2
}
